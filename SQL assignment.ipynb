{
    "cells": [
        {
            "cell_type": "code",
            "execution_count": 16,
            "metadata": {},
            "outputs": [],
            "source": "import ibm_db\nimport pandas\nimport ibm_db_dbi"
        },
        {
            "cell_type": "code",
            "execution_count": 17,
            "metadata": {},
            "outputs": [],
            "source": "#Replace the placeholder values with your actual Db2 hostname, username, and password:\ndsn_hostname = \"fbd88901-ebdb-4a4f-a32e-9822b9fb237b.c1ogj3sd0tgtu0lqde00.databases.appdomain.cloud\" # e.g.: \"54a2f15b-5c0f-46df-8954-7e38e612c2bd.c1ogj3sd0tgtu0lqde00.databases.appdomain.cloud\"\ndsn_uid = \"xxr97199\"        # e.g. \"abc12345\"\ndsn_pwd = \"cSi8tkLJTBo9qfCt\"      # e.g. \"7dBZ3wWt9XN6$o0J\"\n\ndsn_driver = \"{IBM DB2 ODBC DRIVER}\"\ndsn_database = \"bludb\"            # e.g. \"BLUDB\"\ndsn_port = \"32731\"                # e.g. \"32733\" \ndsn_protocol = \"TCPIP\"            # i.e. \"TCPIP\"\ndsn_security = \"SSL\"              #i.e. \"SSL\""
        },
        {
            "cell_type": "code",
            "execution_count": 18,
            "metadata": {},
            "outputs": [
                {
                    "name": "stdout",
                    "output_type": "stream",
                    "text": "Connected to database:  bludb as user:  xxr97199 on host:  fbd88901-ebdb-4a4f-a32e-9822b9fb237b.c1ogj3sd0tgtu0lqde00.databases.appdomain.cloud\n"
                }
            ],
            "source": "#Create database connection\n#DO NOT MODIFY THIS CELL. Just RUN it with Shift + Enter\ndsn = (\n    \"DRIVER={0};\"\n    \"DATABASE={1};\"\n    \"HOSTNAME={2};\"\n    \"PORT={3};\"\n    \"PROTOCOL={4};\"\n    \"UID={5};\"\n    \"PWD={6};\"\n    \"SECURITY={7};\").format(dsn_driver, dsn_database, dsn_hostname, dsn_port, dsn_protocol, dsn_uid, dsn_pwd,dsn_security)\n\ntry:\n    conn = ibm_db.connect(dsn, \"\", \"\")\n    print (\"Connected to database: \", dsn_database, \"as user: \", dsn_uid, \"on host: \", dsn_hostname)\n\nexcept:\n    print (\"Unable to connect: \", ibm_db.conn_errormsg() )"
        },
        {
            "cell_type": "code",
            "execution_count": 19,
            "metadata": {},
            "outputs": [],
            "source": "#connection for pandas\npconn = ibm_db_dbi.Connection(conn)"
        },
        {
            "cell_type": "code",
            "execution_count": 20,
            "metadata": {},
            "outputs": [],
            "source": "#Construct the query that retrieves all rows from the CHICAGO_CRIME_DATA table\nselectQuery = \"select count(*) from CHICAGO_CRIME_DATA\"\n\n#retrieve the query results into a pandas dataframe\npdf = pandas.read_sql(selectQuery, pconn)"
        },
        {
            "cell_type": "code",
            "execution_count": 21,
            "metadata": {},
            "outputs": [
                {
                    "data": {
                        "text/html": "<div>\n<style scoped>\n    .dataframe tbody tr th:only-of-type {\n        vertical-align: middle;\n    }\n\n    .dataframe tbody tr th {\n        vertical-align: top;\n    }\n\n    .dataframe thead th {\n        text-align: right;\n    }\n</style>\n<table border=\"1\" class=\"dataframe\">\n  <thead>\n    <tr style=\"text-align: right;\">\n      <th></th>\n      <th>1</th>\n    </tr>\n  </thead>\n  <tbody>\n    <tr>\n      <th>0</th>\n      <td>533</td>\n    </tr>\n  </tbody>\n</table>\n</div>",
                        "text/plain": "     1\n0  533"
                    },
                    "execution_count": 21,
                    "metadata": {},
                    "output_type": "execute_result"
                }
            ],
            "source": "pdf"
        },
        {
            "cell_type": "code",
            "execution_count": 22,
            "metadata": {},
            "outputs": [
                {
                    "name": "stdout",
                    "output_type": "stream",
                    "text": " Area: West Garfield Park\n Area: South Lawndale\n Area: Fuller Park\n Area: Riverdale\n"
                }
            ],
            "source": "#Construct the query that retrieves all rows from the CHICAGO_CRIME_DATA table\nselectQuery = \"select COMMUNITY_AREA_NAME from CENSUS_DATA where PER_CAPITA_INCOME < 11000\"\n\n#Execute the statement\nselectStmt = ibm_db.exec_immediate(conn, selectQuery)\n\n#Fetch the Dictionary (for the first row only) - replace ... with your code\n\nwhile ibm_db.fetch_row(selectStmt) != False:\n   print (\" Area:\",  ibm_db.result(selectStmt, \"COMMUNITY_AREA_NAME\"))"
        },
        {
            "cell_type": "code",
            "execution_count": 23,
            "metadata": {},
            "outputs": [
                {
                    "data": {
                        "text/html": "<div>\n<style scoped>\n    .dataframe tbody tr th:only-of-type {\n        vertical-align: middle;\n    }\n\n    .dataframe tbody tr th {\n        vertical-align: top;\n    }\n\n    .dataframe thead th {\n        text-align: right;\n    }\n</style>\n<table border=\"1\" class=\"dataframe\">\n  <thead>\n    <tr style=\"text-align: right;\">\n      <th></th>\n      <th>CASE_NUMBER</th>\n    </tr>\n  </thead>\n  <tbody>\n    <tr>\n      <th>0</th>\n      <td>HL266884</td>\n    </tr>\n    <tr>\n      <th>1</th>\n      <td>HK238408</td>\n    </tr>\n  </tbody>\n</table>\n</div>",
                        "text/plain": "  CASE_NUMBER\n0    HL266884\n1    HK238408"
                    },
                    "execution_count": 23,
                    "metadata": {},
                    "output_type": "execute_result"
                }
            ],
            "source": "#Construct the query that retrieves all rows from the CHICAGO_CRIME_DATA table\nselectQuery = \"select CASE_NUMBER from CHICAGO_CRIME_DATA WHERE DESCRIPTION LIKE '%MINOR'\"\n\n#retrieve the query results into a pandas dataframe\npdf = pandas.read_sql(selectQuery, pconn)\n\n#print just the LNAME for first row in the pandas data frame\npdf"
        },
        {
            "cell_type": "code",
            "execution_count": 24,
            "metadata": {},
            "outputs": [
                {
                    "name": "stdout",
                    "output_type": "stream",
                    "text": " ID: 5276766  case:  CHILD ABDUCTION/STRANGER\n"
                }
            ],
            "source": "#Construct the query that retrieves all rows from the CHICAGO_CRIME_DATA table\nselectQuery = \"select * from CHICAGO_CRIME_DATA WHERE PRIMARY_TYPE LIKE '%KID%'\"\n\n#Execute the statement\nselectStmt = ibm_db.exec_immediate(conn, selectQuery)\n\nwhile ibm_db.fetch_row(selectStmt) != False:\n   print ( \" ID:\",  ibm_db.result(selectStmt, \"ID\"), \" case: \", ibm_db.result(selectStmt, \"DESCRIPTION\"))\n"
        },
        {
            "cell_type": "code",
            "execution_count": 25,
            "metadata": {},
            "outputs": [
                {
                    "data": {
                        "text/html": "<div>\n<style scoped>\n    .dataframe tbody tr th:only-of-type {\n        vertical-align: middle;\n    }\n\n    .dataframe tbody tr th {\n        vertical-align: top;\n    }\n\n    .dataframe thead th {\n        text-align: right;\n    }\n</style>\n<table border=\"1\" class=\"dataframe\">\n  <thead>\n    <tr style=\"text-align: right;\">\n      <th></th>\n      <th>1</th>\n    </tr>\n  </thead>\n  <tbody>\n    <tr>\n      <th>0</th>\n      <td>49</td>\n    </tr>\n  </tbody>\n</table>\n</div>",
                        "text/plain": "    1\n0  49"
                    },
                    "execution_count": 25,
                    "metadata": {},
                    "output_type": "execute_result"
                }
            ],
            "source": "#query statement to retrieve all rows in INSTRUCTOR table\nselectQuery = \"select AVG(SAFETY_SCORE) from CHICAGO_PUBLIC_SCHOOLS\"\n\n#retrieve the query results into a pandas dataframe\npdf = pandas.read_sql(selectQuery, pconn)\n\n#print just the LNAME for first row in the pandas data frame\npdf"
        },
        {
            "cell_type": "code",
            "execution_count": 26,
            "metadata": {},
            "outputs": [
                {
                    "data": {
                        "text/html": "<div>\n<style scoped>\n    .dataframe tbody tr th:only-of-type {\n        vertical-align: middle;\n    }\n\n    .dataframe tbody tr th {\n        vertical-align: top;\n    }\n\n    .dataframe thead th {\n        text-align: right;\n    }\n</style>\n<table border=\"1\" class=\"dataframe\">\n  <thead>\n    <tr style=\"text-align: right;\">\n      <th></th>\n      <th>COMMUNITY_AREA_NAME</th>\n      <th>PERCENT_HOUSEHOLDS_BELOW_POVERTY</th>\n    </tr>\n  </thead>\n  <tbody>\n    <tr>\n      <th>0</th>\n      <td>Riverdale</td>\n      <td>56.5</td>\n    </tr>\n    <tr>\n      <th>1</th>\n      <td>Fuller Park</td>\n      <td>51.2</td>\n    </tr>\n    <tr>\n      <th>2</th>\n      <td>Englewood</td>\n      <td>46.6</td>\n    </tr>\n    <tr>\n      <th>3</th>\n      <td>North Lawndale</td>\n      <td>43.1</td>\n    </tr>\n    <tr>\n      <th>4</th>\n      <td>East Garfield Park</td>\n      <td>42.4</td>\n    </tr>\n  </tbody>\n</table>\n</div>",
                        "text/plain": "  COMMUNITY_AREA_NAME  PERCENT_HOUSEHOLDS_BELOW_POVERTY\n0           Riverdale                              56.5\n1         Fuller Park                              51.2\n2           Englewood                              46.6\n3      North Lawndale                              43.1\n4  East Garfield Park                              42.4"
                    },
                    "execution_count": 26,
                    "metadata": {},
                    "output_type": "execute_result"
                }
            ],
            "source": "#query statement to retrieve all rows in INSTRUCTOR table\nselectQuery = \"select COMMUNITY_AREA_NAME, PERCENT_HOUSEHOLDS_BELOW_POVERTY from CENSUS_DATA order by PERCENT_HOUSEHOLDS_BELOW_POVERTY DESC LIMIT 5\"\n\n#retrieve the query results into a pandas dataframe\npdf = pandas.read_sql(selectQuery, pconn)\n\n#print just the LNAME for first row in the pandas data frame\npdf"
        },
        {
            "cell_type": "code",
            "execution_count": 27,
            "metadata": {
                "scrolled": true
            },
            "outputs": [
                {
                    "data": {
                        "text/html": "<div>\n<style scoped>\n    .dataframe tbody tr th:only-of-type {\n        vertical-align: middle;\n    }\n\n    .dataframe tbody tr th {\n        vertical-align: top;\n    }\n\n    .dataframe thead th {\n        text-align: right;\n    }\n</style>\n<table border=\"1\" class=\"dataframe\">\n  <thead>\n    <tr style=\"text-align: right;\">\n      <th></th>\n      <th>COMMUNITY_AREA_NAME</th>\n      <th>HARDSHIP_INDEX</th>\n      <th>COMMUNITY_AREA_NUMBER</th>\n    </tr>\n  </thead>\n  <tbody>\n    <tr>\n      <th>0</th>\n      <td>Riverdale</td>\n      <td>98</td>\n      <td>54</td>\n    </tr>\n  </tbody>\n</table>\n</div>",
                        "text/plain": "  COMMUNITY_AREA_NAME  HARDSHIP_INDEX  COMMUNITY_AREA_NUMBER\n0           Riverdale              98                     54"
                    },
                    "execution_count": 27,
                    "metadata": {},
                    "output_type": "execute_result"
                }
            ],
            "source": "#query statement to retrieve all rows in INSTRUCTOR table\nselectQuery = \"select COMMUNITY_AREA_NAME, HARDSHIP_INDEX, COMMUNITY_AREA_NUMBER from CENSUS_DATA where HARDSHIP_INDEX = (select MAX(HARDSHIP_INDEX) from CENSUS_DATA)\"\n\n#retrieve the query results into a pandas dataframe\npdf = pandas.read_sql(selectQuery, pconn)\n\n#print just the LNAME for first row in the pandas data frame\npdf"
        },
        {
            "cell_type": "code",
            "execution_count": 28,
            "metadata": {},
            "outputs": [
                {
                    "data": {
                        "text/html": "<div>\n<style scoped>\n    .dataframe tbody tr th:only-of-type {\n        vertical-align: middle;\n    }\n\n    .dataframe tbody tr th {\n        vertical-align: top;\n    }\n\n    .dataframe thead th {\n        text-align: right;\n    }\n</style>\n<table border=\"1\" class=\"dataframe\">\n  <thead>\n    <tr style=\"text-align: right;\">\n      <th></th>\n      <th>COMMUNITY_AREA_NAME</th>\n      <th>HARDSHIP_INDEX</th>\n    </tr>\n  </thead>\n  <tbody>\n    <tr>\n      <th>0</th>\n      <td>Riverdale</td>\n      <td>98</td>\n    </tr>\n  </tbody>\n</table>\n</div>",
                        "text/plain": "  COMMUNITY_AREA_NAME  HARDSHIP_INDEX\n0           Riverdale              98"
                    },
                    "execution_count": 28,
                    "metadata": {},
                    "output_type": "execute_result"
                }
            ],
            "source": "#query statement to retrieve all rows in INSTRUCTOR table\nselectQuery = \"select COMMUNITY_AREA_NAME, HARDSHIP_INDEX from CENSUS_DATA where HARDSHIP_INDEX = (select MAX(HARDSHIP_INDEX) from CENSUS_DATA)\"\n\n#retrieve the query results into a pandas dataframe\npdf = pandas.read_sql(selectQuery, pconn)\n\n#print just the LNAME for first row in the pandas data frame\npdf"
        },
        {
            "cell_type": "code",
            "execution_count": 29,
            "metadata": {},
            "outputs": [
                {
                    "data": {
                        "text/html": "<div>\n<style scoped>\n    .dataframe tbody tr th:only-of-type {\n        vertical-align: middle;\n    }\n\n    .dataframe tbody tr th {\n        vertical-align: top;\n    }\n\n    .dataframe thead th {\n        text-align: right;\n    }\n</style>\n<table border=\"1\" class=\"dataframe\">\n  <thead>\n    <tr style=\"text-align: right;\">\n      <th></th>\n      <th>NAME_OF_SCHOOL</th>\n      <th>AVERAGE_STUDENT_ATTENDANCE</th>\n      <th>AVERAGE_TEACHER_ATTENDANCE</th>\n      <th>COMMUNITY_AREA_NAME</th>\n    </tr>\n  </thead>\n  <tbody>\n    <tr>\n      <th>0</th>\n      <td>George Washington Carver Military Academy High...</td>\n      <td>91.60%</td>\n      <td>96.40%</td>\n      <td>Riverdale</td>\n    </tr>\n    <tr>\n      <th>1</th>\n      <td>George Washington Carver Primary School</td>\n      <td>90.90%</td>\n      <td>94.70%</td>\n      <td>Riverdale</td>\n    </tr>\n    <tr>\n      <th>2</th>\n      <td>Ira F Aldridge Elementary School</td>\n      <td>92.90%</td>\n      <td>96.30%</td>\n      <td>Riverdale</td>\n    </tr>\n    <tr>\n      <th>3</th>\n      <td>William E B Dubois Elementary School</td>\n      <td>93.30%</td>\n      <td>94.40%</td>\n      <td>Riverdale</td>\n    </tr>\n  </tbody>\n</table>\n</div>",
                        "text/plain": "                                      NAME_OF_SCHOOL  \\\n0  George Washington Carver Military Academy High...   \n1            George Washington Carver Primary School   \n2                   Ira F Aldridge Elementary School   \n3               William E B Dubois Elementary School   \n\n  AVERAGE_STUDENT_ATTENDANCE AVERAGE_TEACHER_ATTENDANCE COMMUNITY_AREA_NAME  \n0                     91.60%                     96.40%           Riverdale  \n1                     90.90%                     94.70%           Riverdale  \n2                     92.90%                     96.30%           Riverdale  \n3                     93.30%                     94.40%           Riverdale  "
                    },
                    "execution_count": 29,
                    "metadata": {},
                    "output_type": "execute_result"
                }
            ],
            "source": "# list the school names, community names and average attendance for communities with a hardship index of 98. \nselectQuery = \"select P.NAME_OF_SCHOOL, P.AVERAGE_STUDENT_ATTENDANCE, P.AVERAGE_TEACHER_ATTENDANCE, D.COMMUNITY_AREA_NAME FROM CHICAGO_PUBLIC_SCHOOLS \\\n                    AS P LEFT JOIN CENSUS_DATA AS D ON P.COMMUNITY_AREA_NUMBER=D.COMMUNITY_AREA_NUMBER WHERE D.HARDSHIP_INDEX='98'\"\n\n#retrieve the query results into a pandas dataframe\npdf = pandas.read_sql(selectQuery, pconn)\n\n#print just the LNAME for first row in the pandas data frame\npdf"
        },
        {
            "cell_type": "code",
            "execution_count": 30,
            "metadata": {},
            "outputs": [
                {
                    "data": {
                        "text/html": "<div>\n<style scoped>\n    .dataframe tbody tr th:only-of-type {\n        vertical-align: middle;\n    }\n\n    .dataframe tbody tr th {\n        vertical-align: top;\n    }\n\n    .dataframe thead th {\n        text-align: right;\n    }\n</style>\n<table border=\"1\" class=\"dataframe\">\n  <thead>\n    <tr style=\"text-align: right;\">\n      <th></th>\n      <th>CASE_NUMBER</th>\n      <th>PRIMARY_TYPE</th>\n      <th>COMMUNITY_AREA_NAME</th>\n      <th>LOCATION_DESCRIPTION</th>\n    </tr>\n  </thead>\n  <tbody>\n    <tr>\n      <th>0</th>\n      <td>HK577020</td>\n      <td>NARCOTICS</td>\n      <td>Rogers Park</td>\n      <td>SCHOOL, PUBLIC, GROUNDS</td>\n    </tr>\n    <tr>\n      <th>1</th>\n      <td>HL725506</td>\n      <td>BATTERY</td>\n      <td>Lincoln Square</td>\n      <td>SCHOOL, PUBLIC, BUILDING</td>\n    </tr>\n    <tr>\n      <th>2</th>\n      <td>HH639427</td>\n      <td>BATTERY</td>\n      <td>Austin</td>\n      <td>SCHOOL, PUBLIC, BUILDING</td>\n    </tr>\n    <tr>\n      <th>3</th>\n      <td>HS200939</td>\n      <td>CRIMINAL DAMAGE</td>\n      <td>Austin</td>\n      <td>SCHOOL, PUBLIC, GROUNDS</td>\n    </tr>\n    <tr>\n      <th>4</th>\n      <td>HT315369</td>\n      <td>ASSAULT</td>\n      <td>East Garfield Park</td>\n      <td>SCHOOL, PUBLIC, GROUNDS</td>\n    </tr>\n    <tr>\n      <th>5</th>\n      <td>HP716225</td>\n      <td>BATTERY</td>\n      <td>Douglas</td>\n      <td>SCHOOL, PUBLIC, BUILDING</td>\n    </tr>\n    <tr>\n      <th>6</th>\n      <td>HL353697</td>\n      <td>BATTERY</td>\n      <td>South Shore</td>\n      <td>SCHOOL, PUBLIC, GROUNDS</td>\n    </tr>\n    <tr>\n      <th>7</th>\n      <td>HS305355</td>\n      <td>NARCOTICS</td>\n      <td>Brighton Park</td>\n      <td>SCHOOL, PUBLIC, BUILDING</td>\n    </tr>\n    <tr>\n      <th>8</th>\n      <td>JA460432</td>\n      <td>BATTERY</td>\n      <td>Ashburn</td>\n      <td>SCHOOL, PUBLIC, GROUNDS</td>\n    </tr>\n    <tr>\n      <th>9</th>\n      <td>HR585012</td>\n      <td>CRIMINAL TRESPA</td>\n      <td>Ashburn</td>\n      <td>SCHOOL, PUBLIC, GROUNDS</td>\n    </tr>\n    <tr>\n      <th>10</th>\n      <td>HH292682</td>\n      <td>PUBLIC PEACE VI</td>\n      <td>None</td>\n      <td>SCHOOL, PRIVATE, BUILDING</td>\n    </tr>\n    <tr>\n      <th>11</th>\n      <td>G635735</td>\n      <td>PUBLIC PEACE VI</td>\n      <td>None</td>\n      <td>SCHOOL, PUBLIC, BUILDING</td>\n    </tr>\n  </tbody>\n</table>\n</div>",
                        "text/plain": "   CASE_NUMBER     PRIMARY_TYPE COMMUNITY_AREA_NAME       LOCATION_DESCRIPTION\n0     HK577020        NARCOTICS         Rogers Park    SCHOOL, PUBLIC, GROUNDS\n1     HL725506          BATTERY      Lincoln Square   SCHOOL, PUBLIC, BUILDING\n2     HH639427          BATTERY              Austin   SCHOOL, PUBLIC, BUILDING\n3     HS200939  CRIMINAL DAMAGE              Austin    SCHOOL, PUBLIC, GROUNDS\n4     HT315369          ASSAULT  East Garfield Park    SCHOOL, PUBLIC, GROUNDS\n5     HP716225          BATTERY             Douglas   SCHOOL, PUBLIC, BUILDING\n6     HL353697          BATTERY         South Shore    SCHOOL, PUBLIC, GROUNDS\n7     HS305355        NARCOTICS       Brighton Park   SCHOOL, PUBLIC, BUILDING\n8     JA460432          BATTERY             Ashburn    SCHOOL, PUBLIC, GROUNDS\n9     HR585012  CRIMINAL TRESPA             Ashburn    SCHOOL, PUBLIC, GROUNDS\n10    HH292682  PUBLIC PEACE VI                None  SCHOOL, PRIVATE, BUILDING\n11     G635735  PUBLIC PEACE VI                None   SCHOOL, PUBLIC, BUILDING"
                    },
                    "execution_count": 30,
                    "metadata": {},
                    "output_type": "execute_result"
                }
            ],
            "source": "# Write and execute a SQL query to list all crimes that took place at a school. Include case number, crime type and community name. \nselectQuery = \"select C.CASE_NUMBER, C.PRIMARY_TYPE, D.COMMUNITY_AREA_NAME, C.LOCATION_DESCRIPTION from CHICAGO_CRIME_DATA as C \\\n                LEFT JOIN CENSUS_DATA AS D ON C.COMMUNITY_AREA_NUMBER=D.COMMUNITY_AREA_NUMBER WHERE C.LOCATION_DESCRIPTION LIKE '%SCHOOL%'\"\n\n#retrieve the query results into a pandas dataframe\npdf = pandas.read_sql(selectQuery, pconn)\n\n#print just the LNAME for first row in the pandas data frame\npdf"
        },
        {
            "cell_type": "code",
            "execution_count": null,
            "metadata": {},
            "outputs": [],
            "source": ""
        },
        {
            "cell_type": "code",
            "execution_count": null,
            "metadata": {},
            "outputs": [],
            "source": ""
        },
        {
            "cell_type": "code",
            "execution_count": null,
            "metadata": {},
            "outputs": [],
            "source": ""
        }
    ],
    "metadata": {
        "kernelspec": {
            "display_name": "Python 3.8",
            "language": "python",
            "name": "python3"
        },
        "language_info": {
            "codemirror_mode": {
                "name": "ipython",
                "version": 3
            },
            "file_extension": ".py",
            "mimetype": "text/x-python",
            "name": "python",
            "nbconvert_exporter": "python",
            "pygments_lexer": "ipython3",
            "version": "3.8.11"
        }
    },
    "nbformat": 4,
    "nbformat_minor": 1
}