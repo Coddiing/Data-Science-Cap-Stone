{
    "cells": [
        {
            "metadata": {},
            "cell_type": "code",
            "source": "#!pip install pandas\n#!pip install requests\n!pip install bs4\n#!pip install plotly\n!pip install html5lib\n!pip install lxml",
            "execution_count": 1,
            "outputs": [
                {
                    "output_type": "stream",
                    "text": "Collecting bs4\n  Downloading bs4-0.0.1.tar.gz (1.1 kB)\nRequirement already satisfied: beautifulsoup4 in /opt/conda/envs/Python-3.8-main/lib/python3.8/site-packages (from bs4) (4.9.3)\nRequirement already satisfied: soupsieve>1.2 in /opt/conda/envs/Python-3.8-main/lib/python3.8/site-packages (from beautifulsoup4->bs4) (2.2.1)\nBuilding wheels for collected packages: bs4\n  Building wheel for bs4 (setup.py) ... \u001b[?25ldone\n\u001b[?25h  Created wheel for bs4: filename=bs4-0.0.1-py3-none-any.whl size=1273 sha256=b949913bb0ac8987e40bfcb2819bb83c7eb414972cc4559dfc0349ca1719b5ba\n  Stored in directory: /tmp/wsuser/.cache/pip/wheels/75/78/21/68b124549c9bdc94f822c02fb9aa3578a669843f9767776bca\nSuccessfully built bs4\nInstalling collected packages: bs4\nSuccessfully installed bs4-0.0.1\nRequirement already satisfied: html5lib in /opt/conda/envs/Python-3.8-main/lib/python3.8/site-packages (1.1)\nRequirement already satisfied: webencodings in /opt/conda/envs/Python-3.8-main/lib/python3.8/site-packages (from html5lib) (0.5.1)\nRequirement already satisfied: six>=1.9 in /opt/conda/envs/Python-3.8-main/lib/python3.8/site-packages (from html5lib) (1.15.0)\nRequirement already satisfied: lxml in /opt/conda/envs/Python-3.8-main/lib/python3.8/site-packages (4.6.3)\n",
                    "name": "stdout"
                }
            ]
        },
        {
            "metadata": {},
            "cell_type": "code",
            "source": "import pandas as pd\nimport requests\nfrom bs4 import BeautifulSoup",
            "execution_count": 2,
            "outputs": []
        },
        {
            "metadata": {},
            "cell_type": "code",
            "source": "url = \"https://cf-courses-data.s3.us.cloud-object-storage.appdomain.cloud/IBMDeveloperSkillsNetwork-PY0220EN-SkillsNetwork/labs/project/netflix_data_webpage.html\"\n\ndata  = requests.get(url).text",
            "execution_count": 3,
            "outputs": []
        },
        {
            "metadata": {},
            "cell_type": "code",
            "source": "soup = BeautifulSoup(data, 'html.parser')\nsoup.find(\"title\")",
            "execution_count": 4,
            "outputs": [
                {
                    "output_type": "execute_result",
                    "execution_count": 4,
                    "data": {
                        "text/plain": "<title>Netflix, Inc. (NFLX) Stock Historical Prices &amp; Data - Yahoo Finance</title>"
                    },
                    "metadata": {}
                }
            ]
        },
        {
            "metadata": {},
            "cell_type": "code",
            "source": "netflix_data = pd.DataFrame(columns=[\"Date\", \"Open\", \"High\", \"Low\", \"Close\", \"Volume\"])\n\n# First we isolate the body of the table which contains all the information\n# Then we loop through each row and find all the column values for each row\nfor row in soup.find(\"tbody\").find_all('tr'):\n    col = row.find_all(\"td\")\n    date = col[0].text\n    Open = col[1].text\n    high = col[2].text\n    low = col[3].text\n    close = col[4].text\n    adj_close = col[5].text\n    volume = col[6].text\n    \n    # Finally we append the data of each row to the table\n    netflix_data = netflix_data.append({\"Date\":date, \"Open\":Open, \"High\":high, \"Low\":low, \"Close\":close, \"Adj Close\":adj_close, \"Volume\":volume}, ignore_index=True)    ",
            "execution_count": 5,
            "outputs": []
        },
        {
            "metadata": {},
            "cell_type": "code",
            "source": "netflix_data.tail()",
            "execution_count": 6,
            "outputs": [
                {
                    "output_type": "execute_result",
                    "execution_count": 6,
                    "data": {
                        "text/plain": "            Date    Open    High     Low   Close       Volume Adj Close\n65  Jan 01, 2016  109.00  122.18   90.11   91.84  488,193,200     91.84\n66  Dec 01, 2015  124.47  133.27  113.85  114.38  319,939,200    114.38\n67  Nov 01, 2015  109.20  126.60  101.86  123.33  320,321,800    123.33\n68  Oct 01, 2015  102.91  115.83   96.26  108.38  446,204,400    108.38\n69  Sep 01, 2015  109.35  111.24   93.55  103.26  497,401,200    103.26",
                        "text/html": "<div>\n<style scoped>\n    .dataframe tbody tr th:only-of-type {\n        vertical-align: middle;\n    }\n\n    .dataframe tbody tr th {\n        vertical-align: top;\n    }\n\n    .dataframe thead th {\n        text-align: right;\n    }\n</style>\n<table border=\"1\" class=\"dataframe\">\n  <thead>\n    <tr style=\"text-align: right;\">\n      <th></th>\n      <th>Date</th>\n      <th>Open</th>\n      <th>High</th>\n      <th>Low</th>\n      <th>Close</th>\n      <th>Volume</th>\n      <th>Adj Close</th>\n    </tr>\n  </thead>\n  <tbody>\n    <tr>\n      <th>65</th>\n      <td>Jan 01, 2016</td>\n      <td>109.00</td>\n      <td>122.18</td>\n      <td>90.11</td>\n      <td>91.84</td>\n      <td>488,193,200</td>\n      <td>91.84</td>\n    </tr>\n    <tr>\n      <th>66</th>\n      <td>Dec 01, 2015</td>\n      <td>124.47</td>\n      <td>133.27</td>\n      <td>113.85</td>\n      <td>114.38</td>\n      <td>319,939,200</td>\n      <td>114.38</td>\n    </tr>\n    <tr>\n      <th>67</th>\n      <td>Nov 01, 2015</td>\n      <td>109.20</td>\n      <td>126.60</td>\n      <td>101.86</td>\n      <td>123.33</td>\n      <td>320,321,800</td>\n      <td>123.33</td>\n    </tr>\n    <tr>\n      <th>68</th>\n      <td>Oct 01, 2015</td>\n      <td>102.91</td>\n      <td>115.83</td>\n      <td>96.26</td>\n      <td>108.38</td>\n      <td>446,204,400</td>\n      <td>108.38</td>\n    </tr>\n    <tr>\n      <th>69</th>\n      <td>Sep 01, 2015</td>\n      <td>109.35</td>\n      <td>111.24</td>\n      <td>93.55</td>\n      <td>103.26</td>\n      <td>497,401,200</td>\n      <td>103.26</td>\n    </tr>\n  </tbody>\n</table>\n</div>"
                    },
                    "metadata": {}
                }
            ]
        },
        {
            "metadata": {},
            "cell_type": "code",
            "source": "read_html_pandas_data = pd.read_html(url)",
            "execution_count": 7,
            "outputs": []
        },
        {
            "metadata": {},
            "cell_type": "code",
            "source": "read_html_pandas_data = pd.read_html(str(soup))",
            "execution_count": 8,
            "outputs": []
        },
        {
            "metadata": {},
            "cell_type": "code",
            "source": "netflix_dataframe = read_html_pandas_data[0]\n\nnetflix_dataframe.head()",
            "execution_count": 9,
            "outputs": [
                {
                    "output_type": "execute_result",
                    "execution_count": 9,
                    "data": {
                        "text/plain": "           Date    Open    High     Low  Close* Adj Close**     Volume\n0  Jun 01, 2021  504.01  536.13  482.14  528.21      528.21   78560600\n1  May 01, 2021  512.65  518.95  478.54  502.81      502.81   66927600\n2  Apr 01, 2021  529.93  563.56  499.00  513.47      513.47  111573300\n3  Mar 01, 2021  545.57  556.99  492.85  521.66      521.66   90183900\n4  Feb 01, 2021  536.79  566.65  518.28  538.85      538.85   61902300",
                        "text/html": "<div>\n<style scoped>\n    .dataframe tbody tr th:only-of-type {\n        vertical-align: middle;\n    }\n\n    .dataframe tbody tr th {\n        vertical-align: top;\n    }\n\n    .dataframe thead th {\n        text-align: right;\n    }\n</style>\n<table border=\"1\" class=\"dataframe\">\n  <thead>\n    <tr style=\"text-align: right;\">\n      <th></th>\n      <th>Date</th>\n      <th>Open</th>\n      <th>High</th>\n      <th>Low</th>\n      <th>Close*</th>\n      <th>Adj Close**</th>\n      <th>Volume</th>\n    </tr>\n  </thead>\n  <tbody>\n    <tr>\n      <th>0</th>\n      <td>Jun 01, 2021</td>\n      <td>504.01</td>\n      <td>536.13</td>\n      <td>482.14</td>\n      <td>528.21</td>\n      <td>528.21</td>\n      <td>78560600</td>\n    </tr>\n    <tr>\n      <th>1</th>\n      <td>May 01, 2021</td>\n      <td>512.65</td>\n      <td>518.95</td>\n      <td>478.54</td>\n      <td>502.81</td>\n      <td>502.81</td>\n      <td>66927600</td>\n    </tr>\n    <tr>\n      <th>2</th>\n      <td>Apr 01, 2021</td>\n      <td>529.93</td>\n      <td>563.56</td>\n      <td>499.00</td>\n      <td>513.47</td>\n      <td>513.47</td>\n      <td>111573300</td>\n    </tr>\n    <tr>\n      <th>3</th>\n      <td>Mar 01, 2021</td>\n      <td>545.57</td>\n      <td>556.99</td>\n      <td>492.85</td>\n      <td>521.66</td>\n      <td>521.66</td>\n      <td>90183900</td>\n    </tr>\n    <tr>\n      <th>4</th>\n      <td>Feb 01, 2021</td>\n      <td>536.79</td>\n      <td>566.65</td>\n      <td>518.28</td>\n      <td>538.85</td>\n      <td>538.85</td>\n      <td>61902300</td>\n    </tr>\n  </tbody>\n</table>\n</div>"
                    },
                    "metadata": {}
                }
            ]
        },
        {
            "metadata": {},
            "cell_type": "code",
            "source": "",
            "execution_count": null,
            "outputs": []
        }
    ],
    "metadata": {
        "kernelspec": {
            "name": "python3",
            "display_name": "Python 3.8",
            "language": "python"
        },
        "language_info": {
            "name": "python",
            "version": "3.8.11",
            "mimetype": "text/x-python",
            "codemirror_mode": {
                "name": "ipython",
                "version": 3
            },
            "pygments_lexer": "ipython3",
            "nbconvert_exporter": "python",
            "file_extension": ".py"
        }
    },
    "nbformat": 4,
    "nbformat_minor": 1
}